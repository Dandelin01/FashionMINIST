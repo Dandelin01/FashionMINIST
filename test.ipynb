{
 "cells": [
  {
   "cell_type": "code",
   "execution_count": null,
   "metadata": {},
   "outputs": [
    {
     "name": "stdout",
     "output_type": "stream",
     "text": [
      "真实标签: Coat\n",
      "预测标签: Coat\n"
     ]
    },
    {
     "data": {
      "image/png": "[encoded data removed]",
      "text/plain": [
       "<Figure size 640x480 with 1 Axes>"
      ]
     },
     "metadata": {},
     "output_type": "display_data"
    }
   ],
   "source": [
    "\n",
    "import torch\n",
    "import torchvision.transforms as transforms\n",
    "from torchvision.datasets import FashionMNIST\n",
    "from model import ImprovedCNN  # 确保你的 model.py 中有 ImprovedCNN 类\n",
    "import matplotlib.pyplot as plt\n",
    "import os\n",
    "\n",
    "# 设置设备\n",
    "device = torch.device(\"cuda\" if torch.cuda.is_available() else \"cpu\")\n",
    "\n",
    "# 类别标签\n",
    "class_names = [\n",
    "    \"T-shirt/top\", \"Trouser\", \"Pullover\", \"Dress\", \"Coat\",\n",
    "    \"Sandal\", \"Shirt\", \"Sneaker\", \"Bag\", \"Ankle boot\"\n",
    "]\n",
    "\n",
    "# 加载模型\n",
    "model_path = 'checkpoints/best_model.pth'\n",
    "assert os.path.exists(model_path), f\"模型文件未找到: {model_path}\"\n",
    "\n",
    "model = ImprovedCNN(num_classes=10).to(device)\n",
    "checkpoint = torch.load(model_path, map_location=device, weights_only=False)\n",
    "model.load_state_dict(checkpoint['model_state_dict'])\n",
    "model.eval()\n",
    "\n",
    "# 数据转换\n",
    "transform = transforms.Compose([\n",
    "    transforms.Resize((28, 28)),\n",
    "    transforms.ToTensor(),\n",
    "    transforms.Normalize((0.5,), (0.5,))\n",
    "])\n",
    "\n",
    "# 加载测试集\n",
    "test_dataset = FashionMNIST(root='data', train=False, download=True, transform=transform)\n",
    "\n",
    "# 选一张图片\n",
    "index = 10\n",
    "image, label = test_dataset[index]\n",
    "image_unsqueezed = image.unsqueeze(0).to(device)  # 加一个 batch 维度\n",
    "\n",
    "# 模型预测\n",
    "with torch.no_grad():\n",
    "    output = model(image_unsqueezed)\n",
    "    _, predicted = output.max(1)\n",
    "\n",
    "# 打印信息\n",
    "print(f\"真实标签: {class_names[label]}\")\n",
    "print(f\"预测标签: {class_names[predicted.item()]}\")\n",
    "\n",
    "# 展示图片（反归一化后）\n",
    "image_to_show = image * 0.5 + 0.5  # 反归一化\n",
    "plt.imshow(image_to_show.squeeze().cpu().numpy(), cmap='gray')\n",
    "plt.title(f\"Predicted: {class_names[predicted.item()]}\")\n",
    "plt.axis('off')\n",
    "plt.show()\n"
   ]
  },
  {
   "cell_type": "code",
   "execution_count": 14,
   "metadata": {},
   "outputs": [
    {
     "data": {
      "text/plain": [
       "tensor([6451])"
      ]
     },
     "execution_count": 14,
     "metadata": {},
     "output_type": "execute_result"
    }
   ],
   "source": [
    "torch.randint(0, len(test_dataset), (1, ))"
   ]
  }
 ],
 "metadata": {
  "kernelspec": {
   "display_name": "base",
   "language": "python",
   "name": "python3"
  },
  "language_info": {
   "codemirror_mode": {
    "name": "ipython",
    "version": 3
   },
   "file_extension": ".py",
   "mimetype": "text/x-python",
   "name": "python",
   "nbconvert_exporter": "python",
   "pygments_lexer": "ipython3",
   "version": "3.12.7"
  }
 },
 "nbformat": 4,
 "nbformat_minor": 2
}
